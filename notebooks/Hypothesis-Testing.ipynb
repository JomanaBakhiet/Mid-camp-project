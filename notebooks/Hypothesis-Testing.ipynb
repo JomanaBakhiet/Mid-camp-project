{
 "cells": [
  {
   "cell_type": "code",
   "execution_count": 1,
   "id": "ea116101",
   "metadata": {},
   "outputs": [],
   "source": [
    "import pandas as pd\n",
    "import numpy as np\n",
    "import scipy.stats as st\n",
    "import matplotlib.pyplot as plt\n",
    "import seaborn as sns\n",
    "%matplotlib inline"
   ]
  },
  {
   "cell_type": "code",
   "execution_count": 3,
   "id": "7bfbddea",
   "metadata": {},
   "outputs": [],
   "source": [
    "data = pd.read_csv(\"../data/clean.csv\")"
   ]
  },
  {
   "attachments": {},
   "cell_type": "markdown",
   "id": "e3dc2586",
   "metadata": {},
   "source": [
    "H0: There is no relationship between education level and income level.\n",
    "H1: There is a  relationship between education level and income level."
   ]
  },
  {
   "cell_type": "code",
   "execution_count": 4,
   "id": "8afaa7f6",
   "metadata": {},
   "outputs": [
    {
     "data": {
      "text/html": [
       "<div>\n",
       "<style scoped>\n",
       "    .dataframe tbody tr th:only-of-type {\n",
       "        vertical-align: middle;\n",
       "    }\n",
       "\n",
       "    .dataframe tbody tr th {\n",
       "        vertical-align: top;\n",
       "    }\n",
       "\n",
       "    .dataframe thead th {\n",
       "        text-align: right;\n",
       "    }\n",
       "</style>\n",
       "<table border=\"1\" class=\"dataframe\">\n",
       "  <thead>\n",
       "    <tr style=\"text-align: right;\">\n",
       "      <th>education</th>\n",
       "      <th>Assoc</th>\n",
       "      <th>Bachelors</th>\n",
       "      <th>HS-grad</th>\n",
       "      <th>Post-grad</th>\n",
       "      <th>Pre-HSgrad</th>\n",
       "      <th>Prof-school</th>\n",
       "      <th>Some-college</th>\n",
       "    </tr>\n",
       "    <tr>\n",
       "      <th>income</th>\n",
       "      <th></th>\n",
       "      <th></th>\n",
       "      <th></th>\n",
       "      <th></th>\n",
       "      <th></th>\n",
       "      <th></th>\n",
       "      <th></th>\n",
       "    </tr>\n",
       "  </thead>\n",
       "  <tbody>\n",
       "    <tr>\n",
       "      <th>&lt;=50K</th>\n",
       "      <td>2564</td>\n",
       "      <td>4392</td>\n",
       "      <td>12367</td>\n",
       "      <td>1266</td>\n",
       "      <td>5323</td>\n",
       "      <td>193</td>\n",
       "      <td>7909</td>\n",
       "    </tr>\n",
       "    <tr>\n",
       "      <th>&gt;50K</th>\n",
       "      <td>902</td>\n",
       "      <td>3178</td>\n",
       "      <td>2416</td>\n",
       "      <td>1792</td>\n",
       "      <td>338</td>\n",
       "      <td>592</td>\n",
       "      <td>1990</td>\n",
       "    </tr>\n",
       "  </tbody>\n",
       "</table>\n",
       "</div>"
      ],
      "text/plain": [
       "education  Assoc  Bachelors  HS-grad  Post-grad  Pre-HSgrad  Prof-school   \n",
       "income                                                                     \n",
       "<=50K       2564       4392    12367       1266        5323          193  \\\n",
       ">50K         902       3178     2416       1792         338          592   \n",
       "\n",
       "education  Some-college  \n",
       "income                   \n",
       "<=50K              7909  \n",
       ">50K               1990  "
      ]
     },
     "execution_count": 4,
     "metadata": {},
     "output_type": "execute_result"
    }
   ],
   "source": [
    "data_crosstab = pd.crosstab(data['income'], data['education'], margins = False)\n",
    "data_crosstab"
   ]
  },
  {
   "cell_type": "code",
   "execution_count": 5,
   "id": "d77ec60b",
   "metadata": {},
   "outputs": [
    {
     "data": {
      "text/plain": [
       "7"
      ]
     },
     "execution_count": 5,
     "metadata": {},
     "output_type": "execute_result"
    }
   ],
   "source": [
    "data['education'].nunique()"
   ]
  },
  {
   "cell_type": "code",
   "execution_count": 6,
   "id": "5b40aad2",
   "metadata": {},
   "outputs": [
    {
     "data": {
      "text/plain": [
       "2"
      ]
     },
     "execution_count": 6,
     "metadata": {},
     "output_type": "execute_result"
    }
   ],
   "source": [
    "data['income'].nunique()"
   ]
  },
  {
   "cell_type": "code",
   "execution_count": 7,
   "id": "f454bd0b",
   "metadata": {},
   "outputs": [
    {
     "data": {
      "text/plain": [
       "150"
      ]
     },
     "execution_count": 7,
     "metadata": {},
     "output_type": "execute_result"
    }
   ],
   "source": [
    "# Computing the degrees of freedom\n",
    "(7-1)*(26-1)"
   ]
  },
  {
   "cell_type": "code",
   "execution_count": 8,
   "id": "a768d76d",
   "metadata": {},
   "outputs": [
    {
     "data": {
      "text/plain": [
       "179.58063415418053"
      ]
     },
     "execution_count": 8,
     "metadata": {},
     "output_type": "execute_result"
    }
   ],
   "source": [
    "st.chi2.ppf(0.95,df=150)"
   ]
  },
  {
   "cell_type": "code",
   "execution_count": 10,
   "id": "782c9d2a",
   "metadata": {},
   "outputs": [
    {
     "data": {
      "text/plain": [
       "Chi2ContingencyResult(statistic=5915.363205331634, pvalue=0.0, dof=6, expected_freq=array([[ 2606.97280085,  5693.821149  , 11119.1225952 ,  2300.09314051,\n",
       "         4257.95528725,   590.44248375,  7445.59254345],\n",
       "       [  859.02719915,  1876.178851  ,  3663.8774048 ,   757.90685949,\n",
       "         1403.04471275,   194.55751625,  2453.40745655]]))"
      ]
     },
     "execution_count": 10,
     "metadata": {},
     "output_type": "execute_result"
    }
   ],
   "source": [
    "st.chi2_contingency(data_crosstab)"
   ]
  },
  {
   "cell_type": "markdown",
   "id": "4f7de5dc",
   "metadata": {},
   "source": [
    "pvalue < 0.05, I reject the null-hypothesis. There is relationship between level of education and income."
   ]
  }
 ],
 "metadata": {
  "kernelspec": {
   "display_name": "myenv",
   "language": "python",
   "name": "myenv"
  },
  "language_info": {
   "codemirror_mode": {
    "name": "ipython",
    "version": 3
   },
   "file_extension": ".py",
   "mimetype": "text/x-python",
   "name": "python",
   "nbconvert_exporter": "python",
   "pygments_lexer": "ipython3",
   "version": "3.9.13"
  }
 },
 "nbformat": 4,
 "nbformat_minor": 5
}
